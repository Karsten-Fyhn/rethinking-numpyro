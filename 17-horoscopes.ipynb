{
 "cells": [
  {
   "cell_type": "markdown",
   "metadata": {
    "navigation": true
   },
   "source": [
    "<!-- NAVIGATION -->\n",
    "< [Chapter 16. Generalized Linear Madness](16-generalized-linear-madness.html) | []() >"
   ]
  },
  {
   "cell_type": "markdown",
   "metadata": {},
   "source": []
  },
  {
   "cell_type": "markdown",
   "metadata": {},
   "source": [
    "**There are no codes in this chapter.**"
   ]
  },
  {
   "cell_type": "markdown",
   "metadata": {
    "navigation": true
   },
   "source": [
    "<!-- NAVIGATION -->\n",
    "< [Chapter 16. Generalized Linear Madness](16-generalized-linear-madness.html) | []() >"
   ]
  }
 ],
 "metadata": {
  "kernelspec": {
   "display_name": "Python 3",
   "language": "python",
   "name": "python3"
  },
  "language_info": {
   "codemirror_mode": {
    "name": "ipython",
    "version": 3
   },
   "file_extension": ".py",
   "mimetype": "text/x-python",
   "name": "python",
   "nbconvert_exporter": "python",
   "pygments_lexer": "ipython3",
   "version": "3.8.3"
  },
  "nikola": {
   "title": "Chapter 17. Horoscopes"
  }
 },
 "nbformat": 4,
 "nbformat_minor": 4
}
